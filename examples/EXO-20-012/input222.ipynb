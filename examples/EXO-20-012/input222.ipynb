{
 "cells": [
  {
   "cell_type": "code",
   "execution_count": 47,
   "metadata": {},
   "outputs": [],
   "source": [
    "import hepdata_lib"
   ]
  },
  {
   "cell_type": "code",
   "execution_count": 48,
   "metadata": {},
   "outputs": [],
   "source": [
    "from hepdata_lib import Submission\n",
    "submission1 = Submission()\n",
    "submission1.read_abstract(\"abstract.txt\")"
   ]
  },
  {
   "cell_type": "code",
   "execution_count": 5,
   "metadata": {},
   "outputs": [],
   "source": [
    "#from hepdata_lib import Table\n",
    "#table = Table(\"Figure 4b\")\n",
    "#table.description = \"Distributions of \\mllj for the data, and the post-fit backgrounds (stacked histograms), in the SRs of the \\eeqq channel. The template for one signal hypothesis is shown overlaid as a yellow solid line. The overflow is included in the last bin. The middle panels show ratios of the data to the pre-fit background prediction and post-fit background yield as red open squares and blue points, respectively. The gray band in the middle panels indicates the systematic component of the post-fit uncertainty. The lower panels show the distributions of the pulls, defined in the text.\"\n",
    "#table.location = \"Data from Figure 4 (right).\"\n",
    "#table.keywords[\"observables\"] = [\"N\"]\n",
    "#table.add_image(\"QBH_CWR.pdf\")"
   ]
  },
  {
   "cell_type": "code",
   "execution_count": 6,
   "metadata": {},
   "outputs": [],
   "source": [
    "#submission1.add_table(table)"
   ]
  },
  {
   "cell_type": "code",
   "execution_count": 37,
   "metadata": {},
   "outputs": [
    {
     "name": "stdout",
     "output_type": "stream",
     "text": [
      "3.0\t0.48822 \t0.48497 \t0.49252\r\n",
      "3.5\t0.487208\t0.486738\t0.497874\r\n",
      "4.0\t0.48929\t        0.487251\t0.495648\r\n",
      "4.5\t0.487066\t0.485303\t0.491127\r\n",
      "5.0\t0.483149\t0.481601\t0.479999\r\n",
      "5.5\t0.479451\t0.475679\t0.470238\r\n",
      "6.0\t0.466667\t0.462347\t0.451808\r\n",
      "6.5\t0.452126\t0.447362\t0.428802\r\n",
      "7.0\t0.42611 \t0.421757\t0.399457\r\n",
      "7.5\t0.397014\t0.396633\t0.370678\r\n"
     ]
    }
   ],
   "source": [
    "!head ADD_accEff_HEP.txt"
   ]
  },
  {
   "cell_type": "code",
   "execution_count": 49,
   "metadata": {},
   "outputs": [
    {
     "name": "stdout",
     "output_type": "stream",
     "text": [
      "[[3.       0.48758  0.48699  0.49616 ]\n",
      " [3.5      0.491316 0.49263  0.499306]\n",
      " [4.       0.489287 0.487498 0.495412]\n",
      " [4.5      0.487001 0.484474 0.487975]\n",
      " [5.       0.484405 0.479555 0.482029]\n",
      " [5.5      0.473992 0.472    0.449546]\n",
      " [6.       0.465694 0.464048 0.427142]\n",
      " [6.5      0.450781 0.445656 0.4162  ]\n",
      " [7.       0.424221 0.424221 0.389248]]\n"
     ]
    }
   ],
   "source": [
    "# Figure for acceptance * efficiency\n",
    "import numpy as np\n",
    "from hepdata_lib import Variable, Uncertainty, Table\n",
    "table = Table(\"Figure 4b\")\n",
    "table.description = \"The product of acceptance and selection efficiency for QBH ADD and RS1 models, as a function of threshold mass of the signal.\"\n",
    "table.location = \"Data from Figure 4b\"\n",
    "#table.add_image(\"QBH_CWR.pdf\")\n",
    "\n",
    "table.keywords[\"observables\"] = [\"Acceptance times efficiency\"]\n",
    "#fig5.keywords[\"reactions\"] = [\"P P --> W W j j\", \"P P --> W Z j j\"]\n",
    "#fig5.keywords[\"phrases\"] = [\"Same-sign WW\", \"WZ\", \"Georgi-Machacek\", \"Charged Higgs\", \"VBF\"]\n",
    "\n",
    "data4 = np.loadtxt(\"ADD_accEff_HEP.txt\", skiprows=0)\n",
    "dataRS1 = np.loadtxt(\"RS1_accEff_HEP.txt\", skiprows=0)\n",
    "print(dataRS1)\n",
    "\n",
    "fig4_data = Variable(\"Threshold Mass\", is_independent=True, is_binned=False, units=\"TeV\")\n",
    "fig4_data.values = [float(x) for x in data4[:,0]]\n",
    "\n",
    "fig4_yields0 = Variable(\"Acceptance times efficiency for ADD signal 2018\", is_independent=False, is_binned=False, units=\"\")\n",
    "#fig5_unc0 = Uncertainty(\"total uncertainty\", is_symmetric=True)\n",
    "fig4_yields0.values = [float(x) for x in data4[:,1]]\n",
    "#fig5_unc0.values = [eval(x) for x in data5[:,3]]\n",
    "#fig5_yields0.add_uncertainty(fig5_unc0)\n",
    "\n",
    "fig4_yields1 = Variable(\"Acceptance times efficiency for ADD signal 2017\", is_independent=False, is_binned=False, units=\"\")\n",
    "#fig5_unc1 = Uncertainty(\"total uncertainty\", is_symmetric=True)\n",
    "fig4_yields1.values = [float(x) for x in data4[:,2]]\n",
    "#fig5_unc1.values = [eval(x) for x in data5[:,4]]\n",
    "#fig5_yields1.add_uncertainty(fig5_unc1)\n",
    "\n",
    "fig4_yields2 = Variable(\"Acceptance times efficiency for ADD signal 2016\", is_independent=False, is_binned=False, units=\"\")\n",
    "#fig5_unc1 = Uncertainty(\"total uncertainty\", is_symmetric=True)\n",
    "fig4_yields2.values = [float(x) for x in data4[:,3]]\n",
    "#fig5_unc1.values = [eval(x) for x in data5[:,4]]\n",
    "#fig5_yields1.add_uncertainty(fig5_unc1)\n",
    "\n",
    "table.add_variable(fig4_data)\n",
    "table.add_variable(fig4_yields0)\n",
    "table.add_variable(fig4_yields1)\n",
    "table.add_variable(fig4_yields2)\n",
    "\n",
    "submission1.add_table(table)\n",
    "\n",
    "table = Table(\"Figure 4b for RS1\")\n",
    "table.description = \"The product of acceptance and selection efficiency for QBH RS1 models, as a function of threshold mass of the signal.\"\n",
    "table.location = \"Data from Figure 4b for RS1 signal\"\n",
    "\n",
    "fig4_rs1 = Variable(\"Threshold Mass\", is_independent=True, is_binned=False, units=\"TeV\")\n",
    "fig4_rs1.values = [float(x) for x in dataRS1[:,0]]\n",
    "\n",
    "fig4_yields3 = Variable(\"Acceptance times efficiency for RS1 signal 2018\", is_independent=False, is_binned=False, units=\"\")\n",
    "fig4_yields3.values = [float(x) for x in dataRS1[:,1]]\n",
    "\n",
    "\n",
    "fig4_yields4 = Variable(\"Acceptance times efficiency for RS1 signal 2017\", is_independent=False, is_binned=False, units=\"\")\n",
    "fig4_yields4.values = [float(x) for x in dataRS1[:,2]]\n",
    "\n",
    "fig4_yields5 = Variable(\"Acceptance times efficiency for RS1 signal 2016\", is_independent=False, is_binned=False, units=\"\")\n",
    "fig4_yields5.values = [float(x) for x in dataRS1[:,3]]\n",
    "\n",
    "\n",
    "table.add_variable(fig4_rs1)\n",
    "table.add_variable(fig4_yields3)\n",
    "table.add_variable(fig4_yields4)\n",
    "table.add_variable(fig4_yields5)\n",
    "\n",
    "submission1.add_table(table)\n",
    "\n",
    "for table in submission1.tables:\n",
    "    table.keywords[\"cmenergies\"] = [13000]"
   ]
  },
  {
   "cell_type": "code",
   "execution_count": 50,
   "metadata": {},
   "outputs": [],
   "source": [
    "# Reading Figure of signal shapes \n",
    "import numpy as np\n",
    "table = Table(\"Figure 3\")\n",
    "table.location = \"Figure 3\"\n",
    "table.add_image(\"SignalShape_afterCWR.pdf\")"
   ]
  },
  {
   "cell_type": "code",
   "execution_count": 51,
   "metadata": {},
   "outputs": [],
   "source": [
    "from hepdata_lib import RootFileReader\n",
    "reader = RootFileReader(\"Mass4TeV.root\")\n",
    "signal_qstar = reader.read_hist_1d(\"h_GJetInvtMass_VarBin_noMassCut\")\n",
    "#print(signal_qstar)\n",
    "signal_qstar['x']= signal_qstar['x'][2:]\n",
    "signal_qstar['x_edges']= signal_qstar['x_edges'][2:]\n",
    "signal_qstar['x_labels']= signal_qstar['x_labels'][2:]\n",
    "signal_qstar['y']= signal_qstar['y'][2:]\n",
    "signal_qstar['dy']= signal_qstar['dy'][2:]\n",
    "#signal_qstar"
   ]
  },
  {
   "cell_type": "code",
   "execution_count": 52,
   "metadata": {},
   "outputs": [],
   "source": [
    "from hepdata_lib import Variable, Uncertainty\n",
    "\n",
    "# x-axis:  Resonance mass with binning variable\n",
    "mass = Variable(\"$m(gammaJ)$\", is_independent=True, is_binned=True, units=\"GeV\")\n",
    "#mass.values = [ (0.4,0.6), (0.6,0.8), (0.8,1.0), (1.0,1.4), (1.4,2.0), (2.0,3.5), (3.5,10.0)]\n",
    "mass.values = signal_qstar[\"x_edges\"]\n",
    "\n",
    "# y-axis: N events\n",
    "sig = Variable(\"Number of expected signal events (pre-fit)\", is_independent=False, is_binned=False, units=\"\")\n",
    "sig.values = signal_qstar[\"y\"]\n",
    "table.add_variable(mass)\n",
    "table.add_variable(sig)\n",
    "submission1.add_table(table)"
   ]
  },
  {
   "cell_type": "code",
   "execution_count": 53,
   "metadata": {},
   "outputs": [],
   "source": [
    "#Reading Limits plots \n",
    "from hepdata_lib import Table\n",
    "table = Table(\"Figure 5a\")\n",
    "table.description = \"Exclusion limits on the product of cross section and branching fraction for the electron channel, as a function of the resonance mass hypothesis.\"\n",
    "\n",
    "table.location = \"Data from Figure 5a.\"\n",
    "table.keywords[\"observables\"] = [\"SIG\"]\n",
    "table.keywords[\"reactions\"] = [\"P P --> N e --> e e  q q \"]\n",
    "\n",
    "table.add_image(\"Limits_f0p1_qstar.pdf\")"
   ]
  },
  {
   "cell_type": "code",
   "execution_count": 54,
   "metadata": {},
   "outputs": [],
   "source": [
    "import numpy as np\n",
    "from hepdata_lib import RootFileReader\n",
    "reader = RootFileReader(\"limits_freq_Qstar_f0p1_SigXBR_excitedquarks2016_CWR.root\")\n",
    "data = reader.read_graph(\"exp_Qstar_excitedquarks2016\")\n",
    "#print(data)"
   ]
  },
  {
   "cell_type": "code",
   "execution_count": 55,
   "metadata": {},
   "outputs": [],
   "source": [
    "import numpy as np\n",
    "from hepdata_lib import RootFileReader\n",
    "reader = RootFileReader(\"limits_freq_Qstar_f0p1_SigXBR_excitedquarks2016_CWR.root\")\n",
    "data_obs = reader.read_graph(\"obs_Qstar_excitedquarks2016\")\n",
    "#print(data_obs)"
   ]
  },
  {
   "cell_type": "code",
   "execution_count": 56,
   "metadata": {},
   "outputs": [],
   "source": [
    "from hepdata_lib import Variable\n",
    "m = Variable(\"$m$\", is_independent=True, is_binned=True, units=\"GeV\")\n",
    "m.values = data[\"x_edges\"]\n",
    "obs = Variable(\"Cross section upper limit at 95% CL\", is_independent=False, is_binned=False, units=\"pb\")\n",
    "obs.values = data_obs[\"y_edges\"]\n",
    "obs.add_qualifier(\"Limit\", \"Observed\")\n",
    "obs.add_qualifier(\"SQRT(S)\", 13, \"TeV\")\n",
    "obs.add_qualifier(\"LUMINOSITY\", 138, \"fb$^{-1}$\")\n",
    "table.add_variable(m)\n",
    "table.add_variable(obs)\n",
    "submission1.add_table(table)"
   ]
  },
  {
   "cell_type": "code",
   "execution_count": null,
   "metadata": {},
   "outputs": [],
   "source": [
    "from hepdata_lib import Variable, Uncertainty\n",
    "import numpy as np\n",
    "d = Variable(\"Heavy composite neutrino mass\", is_independent=True, is_binned=False, units=\"GeV\")\n",
    "d.values = data[:,0]\n",
    "\n",
    "obs = Variable(\"Cross section upper limit at 95% CL\", is_independent=False, is_binned=False, units=\"pb\")\n",
    "obs.values = data[:,6]*[5.71E-03,2.82E-03,8.21E-04,1.43E-05,9.13E-08]\n",
    "obs.add_qualifier(\"Limit\", \"Observed\")\n",
    "obs.add_qualifier(\"SQRT(S)\", 13, \"TeV\")\n",
    "obs.add_qualifier(\"LUMINOSITY\", 138, \"fb$^{-1}$\")\n",
    "\n",
    "exp = Variable(\"Cross section upper limit at 95% CL\", is_independent=False, is_binned=False, units=\"pb\")\n",
    "exp.values = data[:,3]*[5.71E-03,2.82E-03,8.21E-04,1.43E-05,9.13E-08]\n",
    "exp.add_qualifier(\"Limit\", \"Expected\")\n",
    "exp.add_qualifier(\"SQRT(S)\", 13, \"TeV\")\n",
    "exp.add_qualifier(\"LUMINOSITY\", 138, \"fb$^{-1}$\")\n",
    "\n",
    "# +/- 1 sigma\n",
    "unc_1s = Uncertainty(\"1 s.d.\", is_symmetric=False)\n",
    "unc_1s.set_values_from_intervals(zip(data[:,2]*[5.71E-03,2.82E-03,8.21E-04,1.43E-05,9.13E-08], data[:,4]*[5.71E-03,2.82E-03,8.21E-04,1.43E-05,9.13E-08]), nominal=exp.values)\n",
    "exp.add_uncertainty(unc_1s)\n",
    "\n",
    "# +/- 2 sigma\n",
    "unc_2s = Uncertainty(\"2 s.d.\", is_symmetric=False)\n",
    "unc_2s.set_values_from_intervals(zip(data[:,1]*[5.71E-03,2.82E-03,8.21E-04,1.43E-05,9.13E-08], data[:,5]*[5.71E-03,2.82E-03,8.21E-04,1.43E-05,9.13E-08]), nominal=exp.values)\n",
    "exp.add_uncertainty(unc_2s)"
   ]
  },
  {
   "cell_type": "code",
   "execution_count": 57,
   "metadata": {},
   "outputs": [],
   "source": [
    "outdir = \"output\"\n",
    "submission1.create_files(outdir,remove_old=True)"
   ]
  },
  {
   "cell_type": "code",
   "execution_count": null,
   "metadata": {},
   "outputs": [],
   "source": []
  }
 ],
 "metadata": {
  "kernelspec": {
   "display_name": "Python 3",
   "language": "python",
   "name": "python3"
  },
  "language_info": {
   "codemirror_mode": {
    "name": "ipython",
    "version": 3
   },
   "file_extension": ".py",
   "mimetype": "text/x-python",
   "name": "python",
   "nbconvert_exporter": "python",
   "pygments_lexer": "ipython3",
   "version": "3.9.0"
  }
 },
 "nbformat": 4,
 "nbformat_minor": 4
}
