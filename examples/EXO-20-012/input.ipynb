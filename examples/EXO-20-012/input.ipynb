import hepdata_lib
from hepdata_lib import Submission
submission = Submission()
submission.read_abstract("abstract.txt")
