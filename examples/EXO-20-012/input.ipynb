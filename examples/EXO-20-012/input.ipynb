{
 "cells": [
  {
   "cell_type": "code",
   "execution_count": 1,
   "metadata": {},
   "outputs": [
    {
     "name": "stdout",
     "output_type": "stream",
     "text": [
      "Welcome to JupyROOT 6.22/06\n"
     ]
    }
   ],
   "source": [
    "import hepdata_lib"
   ]
  },
  {
   "cell_type": "code",
   "execution_count": 15,
   "metadata": {},
   "outputs": [],
   "source": [
    "from hepdata_lib import Submission\n",
    "submission = Submission()\n",
    "submission.read_abstract(\"abstract.txt\")"
   ]
  },
  {
   "cell_type": "code",
   "execution_count": 16,
   "metadata": {},
   "outputs": [
    {
     "ename": "RuntimeError",
     "evalue": "Cannot find image file: QBH_CWR.pdf",
     "output_type": "error",
     "traceback": [
      "\u001b[0;31m---------------------------------------------------------------------------\u001b[0m",
      "\u001b[0;31mRuntimeError\u001b[0m                              Traceback (most recent call last)",
      "\u001b[0;32m<ipython-input-16-228f85f2429d>\u001b[0m in \u001b[0;36m<module>\u001b[0;34m\u001b[0m\n\u001b[1;32m      4\u001b[0m \u001b[0mtable\u001b[0m\u001b[0;34m.\u001b[0m\u001b[0mlocation\u001b[0m \u001b[0;34m=\u001b[0m \u001b[0;34m\"Data from Figure 4 (upper left).\"\u001b[0m\u001b[0;34m\u001b[0m\u001b[0;34m\u001b[0m\u001b[0m\n\u001b[1;32m      5\u001b[0m \u001b[0mtable\u001b[0m\u001b[0;34m.\u001b[0m\u001b[0mkeywords\u001b[0m\u001b[0;34m[\u001b[0m\u001b[0;34m\"observables\"\u001b[0m\u001b[0;34m]\u001b[0m \u001b[0;34m=\u001b[0m \u001b[0;34m[\u001b[0m\u001b[0;34m\"N\"\u001b[0m\u001b[0;34m]\u001b[0m\u001b[0;34m\u001b[0m\u001b[0;34m\u001b[0m\u001b[0m\n\u001b[0;32m----> 6\u001b[0;31m \u001b[0mtable\u001b[0m\u001b[0;34m.\u001b[0m\u001b[0madd_image\u001b[0m\u001b[0;34m(\u001b[0m\u001b[0;34m\"QBH_CWR.pdf\"\u001b[0m\u001b[0;34m)\u001b[0m\u001b[0;34m\u001b[0m\u001b[0;34m\u001b[0m\u001b[0m\n\u001b[0m",
      "\u001b[0;32m/usr/local/lib/python3.9/site-packages/hepdata_lib/__init__.py\u001b[0m in \u001b[0;36madd_image\u001b[0;34m(self, file_path, outdir)\u001b[0m\n\u001b[1;32m    337\u001b[0m             \u001b[0mself\u001b[0m\u001b[0;34m.\u001b[0m\u001b[0mimage_files\u001b[0m\u001b[0;34m.\u001b[0m\u001b[0madd\u001b[0m\u001b[0;34m(\u001b[0m\u001b[0mfile_path\u001b[0m\u001b[0;34m)\u001b[0m\u001b[0;34m\u001b[0m\u001b[0;34m\u001b[0m\u001b[0m\n\u001b[1;32m    338\u001b[0m         \u001b[0;32melse\u001b[0m\u001b[0;34m:\u001b[0m\u001b[0;34m\u001b[0m\u001b[0;34m\u001b[0m\u001b[0m\n\u001b[0;32m--> 339\u001b[0;31m             \u001b[0;32mraise\u001b[0m \u001b[0mRuntimeError\u001b[0m\u001b[0;34m(\u001b[0m\u001b[0;34mf\"Cannot find image file: {file_path}\"\u001b[0m\u001b[0;34m)\u001b[0m\u001b[0;34m\u001b[0m\u001b[0;34m\u001b[0m\u001b[0m\n\u001b[0m\u001b[1;32m    340\u001b[0m \u001b[0;34m\u001b[0m\u001b[0m\n\u001b[1;32m    341\u001b[0m     \u001b[0;32mdef\u001b[0m \u001b[0mwrite_output\u001b[0m\u001b[0;34m(\u001b[0m\u001b[0mself\u001b[0m\u001b[0;34m,\u001b[0m \u001b[0moutdir\u001b[0m\u001b[0;34m)\u001b[0m\u001b[0;34m:\u001b[0m\u001b[0;34m\u001b[0m\u001b[0;34m\u001b[0m\u001b[0m\n",
      "\u001b[0;31mRuntimeError\u001b[0m: Cannot find image file: QBH_CWR.pdf"
     ]
    }
   ],
   "source": [
    "from hepdata_lib import Table\n",
    "table = Table(\"Figure 4a\")\n",
    "table.description = \"Distributions of \\mllj for the data, and the post-fit backgrounds (stacked histograms), in the SRs of the \\eeqq channel. The template for one signal hypothesis is shown overlaid as a yellow solid line. The overflow is included in the last bin. The middle panels show ratios of the data to the pre-fit background prediction and post-fit background yield as red open squares and blue points, respectively. The gray band in the middle panels indicates the systematic component of the post-fit uncertainty. The lower panels show the distributions of the pulls, defined in the text.\"\n",
    "table.location = \"Data from Figure 4 (upper left).\"\n",
    "table.keywords[\"observables\"] = [\"N\"]\n",
    "table.add_image(\"QBH_CWR.pdf\")"
   ]
  },
  {
   "cell_type": "code",
   "execution_count": null,
   "metadata": {},
   "outputs": [],
   "source": [
    "# Figure for acceptance * efficiency\n",
    "fig5 = Table(\"Figure 5\")\n",
    "fig5.description = \"The product of acceptance and selection efficiency within the fiducial region for the VBF $\\mathrm{H}^{\\pm\\pm}\\\\rightarrow\\mathrm{W}^{\\pm}\\mathrm{W}^{\\pm}\\\\rightarrow 2\\ell 2v$ and $\\mathrm{H}^{\\pm}\\\\rightarrow\\mathrm{W}^{\\pm}\\mathrm{Z}\\\\rightarrow 3\\ell v$ processes, as a function of $m_{\\mathrm{H}_{5}}$. The combination of the statistical and systematic uncertainties is shown. The theoretical uncertainties in the acceptance are also included.\"\n",
    "fig5.location = \"Data from Figure 5\"\n",
    "\n",
    "fig5.keywords[\"observables\"] = [\"Acceptance times efficiency\"]\n",
    "fig5.keywords[\"reactions\"] = [\"P P --> W W j j\", \"P P --> W Z j j\"]\n",
    "fig5.keywords[\"phrases\"] = [\"Same-sign WW\", \"WZ\", \"Georgi-Machacek\", \"Charged Higgs\", \"VBF\"]\n",
    "\n",
    "data5 = np.loadtxt(\"HEPData/inputs/hig20017/hpp_eff.txt\", dtype='string', skiprows=0)\n",
    "\n",
    "print(data5)\n",
    "\n",
    "fig5_data = Variable(\"$m_{\\mathrm{H}_5}$\", is_independent=True, is_binned=False, units=\"GeV\")\n",
    "fig5_data.values = [float(x) for x in data5[:,0]]\n",
    "\n",
    "fig5_yields0 = Variable(\"Acceptance times efficiency for $\\mathrm{H}^{\\pm\\pm}\\\\rightarrow\\mathrm{W}^{\\pm}\\mathrm{W}^{\\pm}\\\\rightarrow 2\\ell 2v$\", is_independent=False, is_binned=False, units=\"\")\n",
    "fig5_unc0 = Uncertainty(\"total uncertainty\", is_symmetric=True)\n",
    "fig5_yields0.values = [float(x) for x in data5[:,1]]\n",
    "fig5_unc0.values = [eval(x) for x in data5[:,3]]\n",
    "fig5_yields0.add_uncertainty(fig5_unc0)\n",
    "\n",
    "fig5_yields1 = Variable(\"Acceptance times efficiency for $\\mathrm{H}^{\\pm}\\\\rightarrow\\mathrm{W}^{\\pm}\\mathrm{Z}\\\\rightarrow 3\\ell v$\", is_independent=False, is_binned=False, units=\"\")\n",
    "fig5_unc1 = Uncertainty(\"total uncertainty\", is_symmetric=True)\n",
    "fig5_yields1.values = [float(x) for x in data5[:,2]]\n",
    "fig5_unc1.values = [eval(x) for x in data5[:,4]]\n",
    "fig5_yields1.add_uncertainty(fig5_unc1)\n",
    "\n",
    "fig5.add_variable(fig5_data)\n",
    "fig5.add_variable(fig5_yields0)\n",
    "fig5.add_variable(fig5_yields1)\n",
    "\n",
    "submission.add_table(fig5)\n",
    "\n",
    "for fig5 in submission.tables:\n",
    "    fig5.keywords[\"cmenergies\"] = [13000]"
   ]
  },
  {
   "cell_type": "code",
   "execution_count": 17,
   "metadata": {},
   "outputs": [],
   "source": [
    "submission.add_table(table)"
   ]
  },
  {
   "cell_type": "code",
   "execution_count": 18,
   "metadata": {},
   "outputs": [],
   "source": [
    "#Reading Limits plots \n",
    "from hepdata_lib import Table\n",
    "table = Table(\"Figure 5a\")\n",
    "table.description = \"Exclusion limits on the product of cross section and branching fraction for the electron channel, as a function of the resonance mass hypothesis.\"\n",
    "\n",
    "table.location = \"Data from Figure 5a.\"\n",
    "table.keywords[\"observables\"] = [\"SIG\"]\n",
    "table.keywords[\"reactions\"] = [\"P P --> N e --> e e  q q \"]\n",
    "\n",
    "table.add_image(\"Limits_f0p1_qstar.pdf\")"
   ]
  },
  {
   "cell_type": "code",
   "execution_count": 19,
   "metadata": {},
   "outputs": [
    {
     "name": "stdout",
     "output_type": "stream",
     "text": [
      "defaultdict(<class 'list'>, {'x': [1.0, 1.1, 1.2, 1.3, 1.4, 1.5, 1.6, 1.7, 1.8, 1.9, 2.0, 2.1, 2.2, 2.3, 2.4, 2.5, 2.6, 2.7, 2.8, 2.9, 3.0, 3.1, 3.2, 3.3, 3.4, 3.5, 3.6, 3.7, 3.8, 3.9, 4.0, 4.1, 4.2, 4.3, 4.4, 4.5, 4.6, 4.7, 4.8, 4.9, 5.0, 5.1, 5.2, 5.3, 5.4, 5.5, 5.6, 5.7, 5.8, 5.9, 6.0, 6.1, 6.2, 6.3, 6.4, 6.5, 6.6, 6.7, 6.8, 6.9, 7.0], 'y': [0.016632601644604977, 0.012366750280590654, 0.009273670022040164, 0.0073082655049868175, 0.005882591250118293, 0.004917268004680685, 0.004057057909505953, 0.00341431963499175, 0.002844368848826537, 0.002322362330495404, 0.0020285685224543677, 0.0017216624541496678, 0.0014850688720824087, 0.0012812853325861468, 0.001115635119901498, 0.000980787349839206, 0.0008633055984153034, 0.0007627789287433704, 0.0006725187177404483, 0.0005970850784139891, 0.0005299393666129621, 0.0004757393852284013, 0.00043122104583783746, 0.0003899644479758776, 0.00035192804943371954, 0.0003146944159475594, 0.0002862124738460719, 0.00026089857714807013, 0.00023715135368655726, 0.00021336851662551013, 0.00019754265867953034, 0.00018008565738276278, 0.00016419747833682597, 0.0001514848757699782, 0.0001403516111017579, 0.0001291977585061694, 0.00011963102081690834, 0.00011004946514083645, 0.00010367054511204033, 9.567638882347202e-05, 8.928461422379568e-05, 9.093753694425788e-05, 8.4545462978041e-05, 7.976542533287381e-05, 7.498900960077709e-05, 7.021739021410023e-05, 6.739575931223314e-05, 6.427135175120907e-05, 6.114432434575899e-05, 5.801332993243856e-05, 5.4818818149325946e-05, 5.330301567141463e-05, 5.189005133272479e-05, 4.884665026043569e-05, 4.7475893316976e-05, 4.69701809183416e-05, 4.6505593388372506e-05, 4.523286107100063e-05, 4.4270832505491046e-05, 4.452949941989908e-05, 4.264731195362207e-05]})\n"
     ]
    }
   ],
   "source": [
    "import numpy as np\n",
    "from hepdata_lib import RootFileReader\n",
    "reader = RootFileReader(\"limits_freq_Qstar_f0p1_SigXBR_excitedquarks2016_CWR.root\")\n",
    "data_exp = reader.read_graph(\"exp_Qstar_excitedquarks2016\")\n",
    "print(data_exp)"
   ]
  },
  {
   "cell_type": "code",
   "execution_count": 20,
   "metadata": {},
   "outputs": [],
   "source": [
    "import numpy as np\n",
    "from hepdata_lib import RootFileReader\n",
    "reader = RootFileReader(\"limits_freq_Qstar_f0p1_SigXBR_excitedquarks2016_CWR.root\")\n",
    "data_exp = reader.read_graph(\"exp_Qstar_excitedquarks2016\")\n",
    "data_obs = reader.read_graph(\"obs_Qstar_excitedquarks2016\")\n",
    "#print(data_obs)\n",
    "\n",
    "data_unc1 = reader.read_graph(\"exp1sigma_Qstar_excitedquarks2016\")\n",
    "data_unc2 = reader.read_graph(\"exp2sigma_Qstar_excitedquarks2016\")\n",
    "#print(data_unc2)"
   ]
  },
  {
   "cell_type": "code",
   "execution_count": 19,
   "metadata": {},
   "outputs": [
    {
     "name": "stdout",
     "output_type": "stream",
     "text": [
      "[]\n"
     ]
    }
   ],
   "source": [
    "from __future__ import print_function\n",
    "data_unc1.keys()\n",
    "print(data_unc1[\"dy\"]) \n",
    "    #type(data_obs[key])"
   ]
  },
  {
   "cell_type": "code",
   "execution_count": 21,
   "metadata": {},
   "outputs": [],
   "source": [
    "from hepdata_lib import Variable, Uncertainty\n",
    "m = Variable(\"$m$\", is_independent=True, is_binned=False, units=\"GeV\")\n",
    "m.values = data_exp[\"x\"]\n",
    "obs = Variable(\"Cross section upper limit at 95% CL\", is_independent=False, is_binned=False, units=\"pb\")\n",
    "obs.values = data_obs[\"y\"]\n",
    "obs.add_qualifier(\"Limit\", \"Observed\")\n",
    "obs.add_qualifier(\"SQRT(S)\", 13, \"TeV\")\n",
    "obs.add_qualifier(\"LUMINOSITY\", 138, \"fb$^{-1}$\")\n",
    "\n",
    "exp = Variable(\"Cross section upper limit at 95% CL\", is_independent=False, is_binned=False, units=\"pb\")\n",
    "exp.values = data_exp[\"y\"]\n",
    "exp.add_qualifier(\"Limit\", \"Expected\")\n",
    "exp.add_qualifier(\"SQRT(S)\", 13, \"TeV\")\n",
    "exp.add_qualifier(\"LUMINOSITY\", 138, \"fb$^{-1}$\")\n",
    "\n",
    "unc_1s = Uncertainty(\"1 s.d.\", is_symmetric=False)\n",
    "#unc_1s.values(data_unc1[\"dy\"]), nominal=exp.values)\n",
    "unc_1s.values = data_unc2[\"dy\"] \n",
    "exp.add_uncertainty(unc_1s)\n",
    "\n",
    "# +/- 2 sigma\n",
    "unc_2s = Uncertainty(\"2 s.d.\", is_symmetric=False)\n",
    "unc_2s.values = data_unc2[\"dy\"] \n",
    "exp.add_uncertainty(unc_2s)\n",
    "\n",
    "table.add_variable(m)\n",
    "table.add_variable(obs)\n",
    "table.add_variable(exp)\n",
    "\n",
    "submission.add_table(table)"
   ]
  },
  {
   "cell_type": "code",
   "execution_count": 24,
   "metadata": {},
   "outputs": [
    {
     "ename": "TypeError",
     "evalue": "unhashable type: 'slice'",
     "output_type": "error",
     "traceback": [
      "\u001b[0;31m---------------------------------------------------------------------------\u001b[0m",
      "\u001b[0;31mTypeError\u001b[0m                                 Traceback (most recent call last)",
      "\u001b[0;32m<ipython-input-24-92e41a331c32>\u001b[0m in \u001b[0;36m<module>\u001b[0;34m\u001b[0m\n\u001b[1;32m      2\u001b[0m \u001b[0;32mimport\u001b[0m \u001b[0mnumpy\u001b[0m \u001b[0;32mas\u001b[0m \u001b[0mnp\u001b[0m\u001b[0;34m\u001b[0m\u001b[0;34m\u001b[0m\u001b[0m\n\u001b[1;32m      3\u001b[0m \u001b[0md\u001b[0m \u001b[0;34m=\u001b[0m \u001b[0mVariable\u001b[0m\u001b[0;34m(\u001b[0m\u001b[0;34m\"Heavy composite neutrino mass\"\u001b[0m\u001b[0;34m,\u001b[0m \u001b[0mis_independent\u001b[0m\u001b[0;34m=\u001b[0m\u001b[0;32mTrue\u001b[0m\u001b[0;34m,\u001b[0m \u001b[0mis_binned\u001b[0m\u001b[0;34m=\u001b[0m\u001b[0;32mFalse\u001b[0m\u001b[0;34m,\u001b[0m \u001b[0munits\u001b[0m\u001b[0;34m=\u001b[0m\u001b[0;34m\"GeV\"\u001b[0m\u001b[0;34m)\u001b[0m\u001b[0;34m\u001b[0m\u001b[0;34m\u001b[0m\u001b[0m\n\u001b[0;32m----> 4\u001b[0;31m \u001b[0md\u001b[0m\u001b[0;34m.\u001b[0m\u001b[0mvalues\u001b[0m \u001b[0;34m=\u001b[0m \u001b[0mdata\u001b[0m\u001b[0;34m[\u001b[0m\u001b[0;34m:\u001b[0m\u001b[0;34m,\u001b[0m\u001b[0;36m0\u001b[0m\u001b[0;34m]\u001b[0m\u001b[0;34m\u001b[0m\u001b[0;34m\u001b[0m\u001b[0m\n\u001b[0m\u001b[1;32m      5\u001b[0m \u001b[0;34m\u001b[0m\u001b[0m\n\u001b[1;32m      6\u001b[0m \u001b[0mobs\u001b[0m \u001b[0;34m=\u001b[0m \u001b[0mVariable\u001b[0m\u001b[0;34m(\u001b[0m\u001b[0;34m\"Cross section upper limit at 95% CL\"\u001b[0m\u001b[0;34m,\u001b[0m \u001b[0mis_independent\u001b[0m\u001b[0;34m=\u001b[0m\u001b[0;32mFalse\u001b[0m\u001b[0;34m,\u001b[0m \u001b[0mis_binned\u001b[0m\u001b[0;34m=\u001b[0m\u001b[0;32mFalse\u001b[0m\u001b[0;34m,\u001b[0m \u001b[0munits\u001b[0m\u001b[0;34m=\u001b[0m\u001b[0;34m\"pb\"\u001b[0m\u001b[0;34m)\u001b[0m\u001b[0;34m\u001b[0m\u001b[0;34m\u001b[0m\u001b[0m\n",
      "\u001b[0;31mTypeError\u001b[0m: unhashable type: 'slice'"
     ]
    }
   ],
   "source": [
    "from hepdata_lib import Variable, Uncertainty\n",
    "import numpy as np\n",
    "d = Variable(\"Heavy composite neutrino mass\", is_independent=True, is_binned=False, units=\"GeV\")\n",
    "d.values = data[:,0]\n",
    "\n",
    "obs = Variable(\"Cross section upper limit at 95% CL\", is_independent=False, is_binned=False, units=\"pb\")\n",
    "obs.values = data[:,6]*[5.71E-03,2.82E-03,8.21E-04,1.43E-05,9.13E-08]\n",
    "obs.add_qualifier(\"Limit\", \"Observed\")\n",
    "obs.add_qualifier(\"SQRT(S)\", 13, \"TeV\")\n",
    "obs.add_qualifier(\"LUMINOSITY\", 138, \"fb$^{-1}$\")\n",
    "\n",
    "exp = Variable(\"Cross section upper limit at 95% CL\", is_independent=False, is_binned=False, units=\"pb\")\n",
    "exp.values = data[:,3]*[5.71E-03,2.82E-03,8.21E-04,1.43E-05,9.13E-08]\n",
    "exp.add_qualifier(\"Limit\", \"Expected\")\n",
    "exp.add_qualifier(\"SQRT(S)\", 13, \"TeV\")\n",
    "exp.add_qualifier(\"LUMINOSITY\", 138, \"fb$^{-1}$\")\n",
    "\n",
    "# +/- 1 sigma\n",
    "unc_1s = Uncertainty(\"1 s.d.\", is_symmetric=False)\n",
    "#unc_1s.values(data_unc1[\"dy\"]), nominal=exp.values)\n",
    "unc_1s.values = data_unc2[\"dy\"] \n",
    "exp.add_uncertainty(unc_1s)\n",
    "\n",
    "# +/- 2 sigma\n",
    "unc_2s = Uncertainty(\"2 s.d.\", is_symmetric=False)\n",
    "unc_2s.values = data_unc2[\"dy\"] \n",
    "exp.add_uncertainty(unc_2s)"
   ]
  },
  {
   "cell_type": "code",
   "execution_count": 22,
   "metadata": {},
   "outputs": [],
   "source": [
    "outdir = \"HN_output\"\n",
    "submission.create_files(outdir,remove_old=True)"
   ]
  },
  {
   "cell_type": "code",
   "execution_count": 23,
   "metadata": {},
   "outputs": [
    {
     "name": "stdout",
     "output_type": "stream",
     "text": [
      "Limits_f0p1_qstar.png  figure_5a.yaml\tthumb_Limits_f0p1_qstar.png\r\n",
      "figure_4a.yaml\t       submission.yaml\r\n"
     ]
    }
   ],
   "source": [
    "!ls HN_output"
   ]
  },
  {
   "cell_type": "code",
   "execution_count": null,
   "metadata": {},
   "outputs": [],
   "source": []
  }
 ],
 "metadata": {
  "kernelspec": {
   "display_name": "Python 3",
   "language": "python",
   "name": "python3"
  },
  "language_info": {
   "codemirror_mode": {
    "name": "ipython",
    "version": 3
   },
   "file_extension": ".py",
   "mimetype": "text/x-python",
   "name": "python",
   "nbconvert_exporter": "python",
   "pygments_lexer": "ipython3",
   "version": "3.9.0"
  }
 },
 "nbformat": 4,
 "nbformat_minor": 4
}
