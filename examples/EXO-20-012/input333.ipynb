{
 "cells": [
  {
   "cell_type": "code",
   "execution_count": 2,
   "metadata": {},
   "outputs": [],
   "source": [
    "import hepdata_lib"
   ]
  },
  {
   "cell_type": "code",
   "execution_count": 3,
   "metadata": {},
   "outputs": [],
   "source": [
    "from hepdata_lib import Submission\n",
    "submission1 = Submission()\n",
    "submission1.read_abstract(\"abstract.txt\")"
   ]
  },
  {
   "cell_type": "code",
   "execution_count": 5,
   "metadata": {},
   "outputs": [],
   "source": [
    "#from hepdata_lib import Table\n",
    "#table = Table(\"Figure 4b\")\n",
    "#table.description = \"Distributions of \\mllj for the data, and the post-fit backgrounds (stacked histograms), in the SRs of the \\eeqq channel. The template for one signal hypothesis is shown overlaid as a yellow solid line. The overflow is included in the last bin. The middle panels show ratios of the data to the pre-fit background prediction and post-fit background yield as red open squares and blue points, respectively. The gray band in the middle panels indicates the systematic component of the post-fit uncertainty. The lower panels show the distributions of the pulls, defined in the text.\"\n",
    "#table.location = \"Data from Figure 4 (right).\"\n",
    "#table.keywords[\"observables\"] = [\"N\"]\n",
    "#table.add_image(\"QBH_CWR.pdf\")"
   ]
  },
  {
   "cell_type": "code",
   "execution_count": 6,
   "metadata": {},
   "outputs": [],
   "source": [
    "#submission1.add_table(table)"
   ]
  },
  {
   "cell_type": "code",
   "execution_count": 127,
   "metadata": {},
   "outputs": [
    {
     "name": "stdout",
     "output_type": "stream",
     "text": [
      "3.0\t0.48822 \t0.48497 \t0.49252\r\n",
      "3.5\t0.487208\t0.486738\t0.497874\r\n",
      "4.0\t0.48929\t        0.487251\t0.495648\r\n",
      "4.5\t0.487066\t0.485303\t0.491127\r\n",
      "5.0\t0.483149\t0.481601\t0.479999\r\n",
      "5.5\t0.479451\t0.475679\t0.470238\r\n",
      "6.0\t0.466667\t0.462347\t0.451808\r\n",
      "6.5\t0.452126\t0.447362\t0.428802\r\n",
      "7.0\t0.42611 \t0.421757\t0.399457\r\n",
      "7.5\t0.397014\t0.396633\t0.370678\r\n"
     ]
    }
   ],
   "source": [
    "!head ADD_accEff_HEP.txt"
   ]
  },
  {
   "cell_type": "code",
   "execution_count": 4,
   "metadata": {},
   "outputs": [
    {
     "name": "stdout",
     "output_type": "stream",
     "text": [
      "[[3.       0.48758  0.48699  0.49616 ]\n",
      " [3.5      0.491316 0.49263  0.499306]\n",
      " [4.       0.489287 0.487498 0.495412]\n",
      " [4.5      0.487001 0.484474 0.487975]\n",
      " [5.       0.484405 0.479555 0.482029]\n",
      " [5.5      0.473992 0.472    0.449546]\n",
      " [6.       0.465694 0.464048 0.427142]\n",
      " [6.5      0.450781 0.445656 0.4162  ]\n",
      " [7.       0.424221 0.424221 0.389248]]\n"
     ]
    }
   ],
   "source": [
    "# Figure for acceptance * efficiency\n",
    "import numpy as np\n",
    "from hepdata_lib import Variable, Uncertainty, Table\n",
    "table = Table(\"Figure 4b\")\n",
    "table.description = \"The product of acceptance and selection efficiency for QBH ADD and RS1 models, as a function of threshold mass of the signal.\"\n",
    "table.location = \"Data from Figure 4b\"\n",
    "#table.add_image(\"QBH_CWR.pdf\")\n",
    "\n",
    "table.keywords[\"observables\"] = [\"Acceptance times efficiency\"]\n",
    "#fig5.keywords[\"reactions\"] = [\"P P --> W W j j\", \"P P --> W Z j j\"]\n",
    "#fig5.keywords[\"phrases\"] = [\"Same-sign WW\", \"WZ\", \"Georgi-Machacek\", \"Charged Higgs\", \"VBF\"]\n",
    "\n",
    "data4 = np.loadtxt(\"ADD_accEff_HEP.txt\", skiprows=0)\n",
    "dataRS1 = np.loadtxt(\"RS1_accEff_HEP.txt\", skiprows=0)\n",
    "print(dataRS1)\n",
    "\n",
    "fig4_data = Variable(\"Threshold Mass\", is_independent=True, is_binned=False, units=\"TeV\")\n",
    "fig4_data.values = [float(x) for x in data4[:,0]]\n",
    "\n",
    "fig4_yields0 = Variable(\"Acceptance times efficiency for ADD signal 2018\", is_independent=False, is_binned=False, units=\"\")\n",
    "#fig5_unc0 = Uncertainty(\"total uncertainty\", is_symmetric=True)\n",
    "fig4_yields0.values = [float(x) for x in data4[:,1]]\n",
    "#fig5_unc0.values = [eval(x) for x in data5[:,3]]\n",
    "#fig5_yields0.add_uncertainty(fig5_unc0)\n",
    "\n",
    "fig4_yields1 = Variable(\"Acceptance times efficiency for ADD signal 2017\", is_independent=False, is_binned=False, units=\"\")\n",
    "#fig5_unc1 = Uncertainty(\"total uncertainty\", is_symmetric=True)\n",
    "fig4_yields1.values = [float(x) for x in data4[:,2]]\n",
    "#fig5_unc1.values = [eval(x) for x in data5[:,4]]\n",
    "#fig5_yields1.add_uncertainty(fig5_unc1)\n",
    "\n",
    "fig4_yields2 = Variable(\"Acceptance times efficiency for ADD signal 2016\", is_independent=False, is_binned=False, units=\"\")\n",
    "#fig5_unc1 = Uncertainty(\"total uncertainty\", is_symmetric=True)\n",
    "fig4_yields2.values = [float(x) for x in data4[:,3]]\n",
    "#fig5_unc1.values = [eval(x) for x in data5[:,4]]\n",
    "#fig5_yields1.add_uncertainty(fig5_unc1)\n",
    "\n",
    "table.add_variable(fig4_data)\n",
    "table.add_variable(fig4_yields0)\n",
    "table.add_variable(fig4_yields1)\n",
    "table.add_variable(fig4_yields2)\n",
    "\n",
    "submission1.add_table(table)\n",
    "\n",
    "table = Table(\"Figure 4b for RS1\")\n",
    "table.description = \"The product of acceptance and selection efficiency for QBH RS1 models, as a function of threshold mass of the signal.\"\n",
    "table.location = \"Data from Figure 4b for RS1 signal\"\n",
    "\n",
    "fig4_rs1 = Variable(\"Threshold Mass\", is_independent=True, is_binned=False, units=\"TeV\")\n",
    "fig4_rs1.values = [float(x) for x in dataRS1[:,0]]\n",
    "\n",
    "fig4_yields3 = Variable(\"Acceptance times efficiency for RS1 signal 2018\", is_independent=False, is_binned=False, units=\"\")\n",
    "fig4_yields3.values = [float(x) for x in dataRS1[:,1]]\n",
    "\n",
    "\n",
    "fig4_yields4 = Variable(\"Acceptance times efficiency for RS1 signal 2017\", is_independent=False, is_binned=False, units=\"\")\n",
    "fig4_yields4.values = [float(x) for x in dataRS1[:,2]]\n",
    "\n",
    "fig4_yields5 = Variable(\"Acceptance times efficiency for RS1 signal 2016\", is_independent=False, is_binned=False, units=\"\")\n",
    "fig4_yields5.values = [float(x) for x in dataRS1[:,3]]\n",
    "\n",
    "\n",
    "table.add_variable(fig4_rs1)\n",
    "table.add_variable(fig4_yields3)\n",
    "table.add_variable(fig4_yields4)\n",
    "table.add_variable(fig4_yields5)\n",
    "\n",
    "submission1.add_table(table)\n",
    "\n",
    "for table in submission1.tables:\n",
    "    table.keywords[\"cmenergies\"] = [13000]"
   ]
  },
  {
   "cell_type": "code",
   "execution_count": 5,
   "metadata": {},
   "outputs": [],
   "source": [
    "# Reading Figure of signal shapes \n",
    "import numpy as np\n",
    "table = Table(\"Figure 3\")\n",
    "table.location = \"Figure 3\"\n",
    "table.add_image(\"SignalShape_afterCWR.pdf\")"
   ]
  },
  {
   "cell_type": "code",
   "execution_count": 6,
   "metadata": {},
   "outputs": [],
   "source": [
    "from hepdata_lib import RootFileReader\n",
    "reader = RootFileReader(\"Mass4TeV.root\")\n",
    "signal_qstar = reader.read_hist_1d(\"h_GJetInvtMass_VarBin_noMassCut\")\n",
    "#print(signal_qstar)\n",
    "signal_qstar['x']= signal_qstar['x'][2:]\n",
    "signal_qstar['x_edges']= signal_qstar['x_edges'][2:]\n",
    "signal_qstar['x_labels']= signal_qstar['x_labels'][2:]\n",
    "signal_qstar['y']= signal_qstar['y'][2:]\n",
    "signal_qstar['dy']= signal_qstar['dy'][2:]\n",
    "#signal_qstar"
   ]
  },
  {
   "cell_type": "code",
   "execution_count": 7,
   "metadata": {},
   "outputs": [],
   "source": [
    "from hepdata_lib import Variable, Uncertainty\n",
    "\n",
    "# x-axis:  Resonance mass with binning variable\n",
    "mass = Variable(\"$m(gammaJ)$\", is_independent=True, is_binned=True, units=\"GeV\")\n",
    "#mass.values = [ (0.4,0.6), (0.6,0.8), (0.8,1.0), (1.0,1.4), (1.4,2.0), (2.0,3.5), (3.5,10.0)]\n",
    "mass.values = signal_qstar[\"x_edges\"]\n",
    "\n",
    "# y-axis: N events\n",
    "sig = Variable(\"Number of expected signal events (pre-fit)\", is_independent=False, is_binned=False, units=\"\")\n",
    "sig.values = signal_qstar[\"y\"]\n",
    "table.add_variable(mass)\n",
    "table.add_variable(sig)\n",
    "submission1.add_table(table)"
   ]
  },
  {
   "cell_type": "code",
   "execution_count": 8,
   "metadata": {},
   "outputs": [
    {
     "name": "stdout",
     "output_type": "stream",
     "text": [
      "[0.0, 0.0, 0.0, 0.0, 0.0, 0.0, 0.0, 0.0, 0.0, 0.0, 0.0, 0.0, 1.4142135623730951, 3.7416573867739413, 6.164414002968976, 9.38083151964686, 12.649110640673518, 15.165750888103101, 20.73644135332772, 29.715315916207253, 57.148928248918196, 139.37718608151047, 235.55678720852006, 327.7087121209932, 402.0248748522907, 439.8204178980326, 445.4435991233907, 429.9441824237188, 404.54665985520137, 372.40569275992544, 342.95480751842507, 307.8376195334157, 284.98947348981153, 253.69666927257836, 228.8536650351049, 208.15859338494772, 186.3249849054066, 170.2410056361275, 152.17095649301808, 137.90213921473443, 123.84667940643382, 111.13955191559843, 99.90495483208028, 90.89004345911603, 82.79492738084863, 73.89181280764467, 65.97726881282674, 58.84725991921799, 53.637673327615545, 48.373546489791295, 43.069710934716056, 38.3275357934736, 33.85262175962151, 30.789608636681304, 27.694764848252458, 24.758836806279895, 21.863211109075447, 20.174241001832016, 16.492422502470642, 16.703293088490067, 12.609520212918492, 12.767145334803704, 10.0, 9.591663046625438, 8.660254037844387, 7.874007874011811, 6.708203932499369, 5.291502622129181, 3.872983346207417, 3.7416573867739413, 3.1622776601683795, 2.23606797749979, 2.8284271247461903, 2.0, 1.7320508075688772, 1.0, 1.7320508075688772, 1.4142135623730951, 1.0, 1.0, 0.0, 0.0, 0.0, 0.0, 1.0, 0.0, 0.0, 0.0, 0.0, 0.0, 0.0, 0.0, 0.0, 0.0, 0.0, 0.0, 0.0, 0.0, 0.0, 0.0, 0.0, 0.0, 0.0, 0.0, 0.0, 0.0, 0.0, 0.0]\n"
     ]
    }
   ],
   "source": [
    "# Fitting plots for q* \n",
    "from hepdata_lib import Table, Uncertainty\n",
    "table = Table(\"Figure 5\")\n",
    "table.description = \"Fitting distribution of data with expected q*, and QBH signal events\"\n",
    "table.location = \"Data from Figure 5\"\n",
    "table.keywords[\"observables\"] = [\"m(photon+jet)\"]\n",
    "import numpy as np\n",
    "from hepdata_lib import RootFileReader\n",
    "reader1 = RootFileReader(\"TotalData_JetPt170_Mass760_RunII_unblind.root\")\n",
    "reader2 = RootFileReader(\"Mass2TeV_qstar_RunII.root\")\n",
    "#reader3 = RootFileReader(\"Mass3000GeV_ADD_RunII.root\")\n",
    "data_qstar = reader1.read_hist_1d(\"h_GJetInvtMass_VarBin_noMassCut\")\n",
    "sig_qstar = reader2.read_hist_1d(\"h_GJetInvtMass_VarBin_noMassCut\")\n",
    "\n",
    "mjj                     = Variable(\"$M_{JJ}$\", is_independent=True, is_binned=True, units=\"GeV\")\n",
    "mjj.values              = data_qstar[\"x_edges\"]  #[12:80]\n",
    "\n",
    "\n",
    "data                = Variable(\"Number of data events\", is_independent=False, is_binned=False, units=\"\")\n",
    "sig1                = Variable(\"Number of q* signal events\", is_independent=False, is_binned=False, units=\"\")\n",
    "data.values = data_qstar[\"y\"]\n",
    "sig1.values = sig_qstar[\"y\"]\n",
    "#data['dy']= data_qstar['dy'][2:]\n",
    "print(data_qstar[\"dy\"])\n",
    "unc_data            = Uncertainty(\"Error\", is_symmetric=True)\n",
    "#unc_data.set_values_from_intervals(data[\"dy\"],nominal=data.values) #data_qstar[\"dy\"]\n",
    "unc_data.values = data_qstar[\"dy\"]\n",
    "\n",
    "data.add_uncertainty(unc_data)\n",
    "table.add_variable(data)\n",
    "table.add_variable(sig1)\n",
    "table.add_variable(mjj)\n",
    "submission1.add_table(table)"
   ]
  },
  {
   "cell_type": "code",
   "execution_count": 9,
   "metadata": {},
   "outputs": [
    {
     "name": "stdout",
     "output_type": "stream",
     "text": [
      "[1.8, 1.8, 1.8, 1.8, 1.8, 1.8, 1.8, 1.8, 1.8, 1.8, 1.8, 1.8, 1.8, 1.8, 1.8, 1.8, 1.8, 1.8, 1.8, 1.8, 1.8, 1.8, 1.8, 1.8, 1.8, 1.8, 1.8, 1.8, 1.8, 1.8, 1.8, 1.8, 84.38601779915912, 75.39893898457723, 69.36137253543934, 63.592452382338585, 58.58327406350724, 54.644304369257, 48.72371086031933, 44.51965857910413, 40.44749683231337, 38.144462245521304, 32.817678162843876, 29.949958263743873, 28.495613697550013, 25.475478405713993, 23.643180835073778, 20.639767440550294, 20.37154878746336, 17.944358444926362, 16.673332000533065, 14.071247279470288, 12.922847983320086, 12.206555615733702, 10.816653826391969, 10.04987562112089, 8.94427190999916, 7.681145747868608, 7.0710678118654755, 7.0, 5.5677643628300215, 6.082762530298219, 4.242640687119285, 4.358898943540674, 3.872983346207417, 3.1622776601683795, 1.4142135623730951, 2.8284271247461903, 1.0, 1.7320508075688772, 1.4142135623730951, 1.4142135623730951, 1.0, 1.0, 1.4142135623730951, 1.0, 1.8, 1.8, 1.8, 1.8, 1.8, 1.8, 1.8, 1.8, 1.0, 1.8, 1.8, 1.8, 1.8, 1.8, 1.8, 1.8, 1.8, 1.8, 1.8, 1.8, 1.8, 1.8, 1.8, 1.8, 1.8, 1.8, 1.8, 1.8, 1.8, 1.8, 1.8, 1.8]\n"
     ]
    }
   ],
   "source": [
    "# Fitting plots for b* \n",
    "from hepdata_lib import Table, Uncertainty\n",
    "table = Table(\"Figure 6a\")\n",
    "table.description = \"Fitting distribution of data with expected b* events\"\n",
    "table.location = \"Data from Figure 6a\"\n",
    "table.keywords[\"observables\"] = [\"m(photon+jet)\"]\n",
    "import numpy as np\n",
    "from hepdata_lib import RootFileReader\n",
    "reader1 = RootFileReader(\"TotalData_JetPt170_Mass760_RunII_Masshisto.root\")\n",
    "reader2 = RootFileReader(\"Mass1TeV_bstar_RunII.root\")\n",
    "reader3 = RootFileReader(\"Mass2TeV_bstar_RunII.root\")\n",
    "\n",
    "\n",
    "data_bstar = reader1.read_hist_1d(\"h_GJet_VarBin_1BTag_MassCut\")\n",
    "sig_bstar_1btag_1tev = reader2.read_hist_1d(\"h_GbJetInvtMass_VarBin_1BTag_MassCut\")\n",
    "sig_bstar_1btag_2tev = reader3.read_hist_1d(\"h_GbJetInvtMass_VarBin_1BTag_MassCut\")\n",
    "\n",
    "\n",
    "mjj                     = Variable(\"$M_{JJ}$\", is_independent=True, is_binned=True, units=\"GeV\")\n",
    "mjj.values              = data_qstar[\"x_edges\"]\n",
    "\n",
    "data                = Variable(\"Number of data events\", is_independent=False, is_binned=False, units=\"\")\n",
    "sig1                = Variable(\"Number of b* 1btag signal events for mass 1Tev\", is_independent=False, is_binned=False, units=\"\")\n",
    "sig2                = Variable(\"Number of b* 1btag signal events for mass 2Tev\", is_independent=False, is_binned=False, units=\"\")   \n",
    "\n",
    "data.values = data_bstar[\"y\"]  #[12:80]\n",
    "sig1.values = sig_bstar_1btag_1tev[\"y\"] \n",
    "sig2.values = sig_bstar_1btag_1tev[\"y\"]\n",
    "\n",
    "#[12:80]\n",
    "#data['dy']= data_qstar['dy'][2:]\n",
    "print(data_bstar[\"dy\"])\n",
    "unc_data            = Uncertainty(\"Error\", is_symmetric=True)\n",
    "#unc_data.set_values_from_intervals(data[\"dy\"],nominal=data.values) #data_qstar[\"dy\"]\n",
    "unc_data.values = data_bstar[\"dy\"]   #[12:80]\n",
    "\n",
    "data.add_uncertainty(unc_data)\n",
    "table.add_variable(data)\n",
    "table.add_variable(sig1)\n",
    "table.add_variable(sig2)\n",
    "submission1.add_table(table)"
   ]
  },
  {
   "cell_type": "code",
   "execution_count": 10,
   "metadata": {},
   "outputs": [
    {
     "name": "stdout",
     "output_type": "stream",
     "text": [
      "[1.8, 1.8, 1.8, 1.8, 1.8, 1.8, 1.8, 1.8, 1.8, 1.8, 1.8, 1.8, 1.8, 1.8, 1.8, 1.8, 1.8, 1.8, 1.8, 1.8, 1.8, 1.8, 1.8, 1.8, 1.8, 1.8, 1.8, 1.8, 1.8, 1.8, 1.8, 1.8, 272.20947815974375, 242.23335856153255, 218.08943119738746, 198.20696254168269, 176.87566254292872, 161.2327510154187, 144.1596337398233, 130.51819796488152, 117.05554237198682, 104.38869670610895, 94.36100889668359, 85.81375181169973, 77.73673520286275, 69.36137253543934, 61.59545437773797, 55.10898293381942, 49.61854492022111, 44.9221548904324, 39.71145930332956, 35.651086939951774, 31.28897569432403, 28.26658805020514, 25.495097567963924, 22.627416997969522, 19.949937343260004, 18.65475810617763, 14.89966442575134, 15.165750888103101, 11.313708498984761, 11.224972160321824, 9.055385138137417, 8.54400374531753, 7.745966692414834, 7.211102550927978, 6.557438524302, 4.47213595499958, 3.7416573867739413, 3.3166247903554, 2.8284271247461903, 1.7320508075688772, 2.6457513110645907, 1.7320508075688772, 1.0, 1.8, 1.7320508075688772, 1.4142135623730951, 1.0, 1.0, 1.8, 1.8, 1.8, 1.8, 1.8, 1.8, 1.8, 1.8, 1.8, 1.8, 1.8, 1.8, 1.8, 1.8, 1.8, 1.8, 1.8, 1.8, 1.8, 1.8, 1.8, 1.8, 1.8, 1.8, 1.8, 1.8, 1.8, 1.8]\n"
     ]
    }
   ],
   "source": [
    "# Fitting plots for b* 0btag \n",
    "from hepdata_lib import Table, Uncertainty\n",
    "table = Table(\"Figure 6b\")\n",
    "table.description = \"Fitting distribution of data with expected b* events for 0btag category\"\n",
    "table.location = \"Data from Figure 6b\"\n",
    "table.keywords[\"observables\"] = [\"m(photon+jet)\"]\n",
    "import numpy as np\n",
    "from hepdata_lib import RootFileReader\n",
    "reader1 = RootFileReader(\"TotalData_JetPt170_Mass760_RunII_Masshisto.root\")\n",
    "reader2 = RootFileReader(\"Mass1TeV_bstar_RunII.root\")\n",
    "reader3 = RootFileReader(\"Mass2TeV_bstar_RunII.root\")\n",
    "\n",
    "\n",
    "data_bstar = reader1.read_hist_1d(\"h_GJet_VarBin_0BTag_MassCut\")\n",
    "sig_bstar_1btag_1tev = reader2.read_hist_1d(\"h_GbJetInvtMass_VarBin_0BTag_MassCut\")\n",
    "sig_bstar_1btag_2tev = reader3.read_hist_1d(\"h_GbJetInvtMass_VarBin_0BTag_MassCut\")\n",
    "\n",
    "\n",
    "mjj                     = Variable(\"$M_{JJ}$\", is_independent=True, is_binned=True, units=\"GeV\")\n",
    "mjj.values              = data_qstar[\"x_edges\"]\n",
    "\n",
    "data                = Variable(\"Number of data events\", is_independent=False, is_binned=False, units=\"\")\n",
    "sig1                = Variable(\"Number of b* 0btag signal events for mass 1Tev\", is_independent=False, is_binned=False, units=\"\")\n",
    "sig2                = Variable(\"Number of b* 0btag signal events for mass 2Tev\", is_independent=False, is_binned=False, units=\"\")   \n",
    "\n",
    "data.values = data_bstar[\"y\"]  #[12:80]\n",
    "sig1.values = sig_bstar_1btag_1tev[\"y\"] \n",
    "sig2.values = sig_bstar_1btag_1tev[\"y\"]\n",
    "\n",
    "#[12:80]\n",
    "#data['dy']= data_qstar['dy'][2:]\n",
    "print(data_bstar[\"dy\"])\n",
    "unc_data            = Uncertainty(\"Error\", is_symmetric=True)\n",
    "#unc_data.set_values_from_intervals(data[\"dy\"],nominal=data.values) #data_qstar[\"dy\"]\n",
    "unc_data.values = data_bstar[\"dy\"]   #[12:80]\n",
    "\n",
    "data.add_uncertainty(unc_data)\n",
    "table.add_variable(data)\n",
    "table.add_variable(sig1)\n",
    "table.add_variable(sig2)\n",
    "submission1.add_table(table)"
   ]
  },
  {
   "cell_type": "code",
   "execution_count": 35,
   "metadata": {},
   "outputs": [
    {
     "name": "stdout",
     "output_type": "stream",
     "text": [
      "[(-0.00459239097973381, 0.006563528065608966), (-0.0034810734560481375, 0.004781556709153393), (-0.0025496366844059842, 0.0036595596071891407), (-0.0020571781601447193, 0.00288397541809257), (-0.0016173176202533821, 0.0023213776316229374), (-0.0013841446154227747, 0.0019208432165410795), (-0.0011347331172320407, 0.0016009889710848274), (-0.0009651745714973377, 0.0013473527743146545), (-0.0008074654714318929, 0.001099764341788753), (-0.000603305364921615, 0.0008979323443824103), (-0.0005710146832269736, 0.0007196504580742504), (-0.0004856361535176284, 0.0006931247198270332), (-0.0004233633016287227, 0.0005860353214786076), (-0.0003637340042898704, 0.0005158331258211184), (-0.00031267437155534864, 0.00045803788341183983), (-0.000278428033831838, 0.0003948555385381662), (-0.0002471452024027819, 0.000350999655147258), (-0.00021836666714358016, 0.000313168337084218), (-0.0001925271438286067, 0.0002761108922916743), (-0.00017236258019981464, 0.0002451407060631624), (-0.0001529793905832116, 0.0002217979095580951), (-0.00013733330194847535, 0.0002029059738869799), (-0.00012448205015033994, 0.00018391861583679227), (-0.00011257236341906189, 0.00016632237556892283), (-0.00010374026952729365, 0.00015009964354926832), (-9.235168998277947e-05, 0.00013923679641518767), (-8.575761723497835e-05, 0.00012435322321557643), (-7.736669049666041e-05, 0.00011543476942468454), (-7.146818717945393e-05, 0.00010587309981024558), (-6.430096562103321e-05, 9.950803825752246e-05), (-6.103879874725597e-05, 9.055253913997437e-05), (-5.564475344850076e-05, 8.398602322342732e-05), (-5.091083923041235e-05, 7.919427554588337e-05), (-4.638207823360545e-05, 7.427050017756381e-05), (-4.475506544196377e-05, 6.881205275183578e-05), (-4.203027566661268e-05, 6.437347675921562e-05), (-3.891805159172409e-05, 6.199106579265279e-05), (-3.635179222651235e-05, 5.8780684750484216e-05), (-3.476354623171239e-05, 5.3720576857355056e-05), (-3.20828924321878e-05, 5.262908565540476e-05), (-2.9939553290982647e-05, 5.0536704070632456e-05), (-3.1404087083222956e-05, 5.1472292192592886e-05), (-2.9196669282822017e-05, 4.9202265506954646e-05), (-2.8344378601299408e-05, 4.642046574618595e-05), (-2.664709579716106e-05, 4.364076932924893e-05), (-2.495151624622068e-05, 4.310298529749259e-05), (-2.4623476808746597e-05, 4.1370928230139974e-05), (-2.380362445935886e-05, 3.996538080755137e-05), (-2.3750151375513315e-05, 3.802093121742848e-05), (-2.2533985832646777e-05, 3.792395457338037e-05), (-2.0797958066652363e-05, 3.758374512454643e-05), (-2.131600089594169e-05, 3.6544515586337046e-05), (-2.0750953302516946e-05, 3.557578398467206e-05), (-1.9533890002517472e-05, 3.6604507878752424e-05), (-1.898572085006346e-05, 3.5577297611795866e-05), (-1.8783485355538474e-05, 3.5198330446626894e-05), (-1.955142378290465e-05, 3.336719040005975e-05), (-1.9016354727009175e-05, 3.389642131732519e-05), (-1.861190837290552e-05, 3.4587221841017405e-05), (-1.8720654575260477e-05, 3.336934118157725e-05), (-1.7929362318093416e-05, 3.467878210419537e-05)]\n"
     ]
    }
   ],
   "source": [
    "#Reading Limits plots \n",
    "from hepdata_lib import Table\n",
    "table = Table(\"Figure 7c\")\n",
    "table.description = \"Exclusion limits on the product of cross section and branching fraction for the electron channel, as a function of the resonance mass hypothesis.\"\n",
    "\n",
    "table.location = \"Data from Figure 7c.\"\n",
    "table.keywords[\"observables\"] = [\"SIG\"]\n",
    "table.keywords[\"reactions\"] = [\"P P --> N e --> e e  q q \"]\n",
    "\n",
    "table.add_image(\"Limits_f0p1_qstar.pdf\")\n",
    "\n",
    "import numpy as np\n",
    "from hepdata_lib import RootFileReader, Uncertainty\n",
    "reader = RootFileReader(\"limits_freq_Qstar_f0p1_SigXBR_excitedquarks2016_CWR.root\")\n",
    "exp_qstar_f0p1 = reader.read_graph(\"exp_Qstar_excitedquarks2016\")\n",
    "obs_qstar_f0p1 = reader.read_graph(\"obs_Qstar_excitedquarks2016\")\n",
    "unc_1s_qstar_f0p1 = reader.read_graph(\"exp1sigma_Qstar_excitedquarks2016\")\n",
    "unc_2s_qstar_f0p1 = reader.read_graph(\"exp2sigma_Qstar_excitedquarks2016\")\n",
    "\n",
    "m = Variable(\"$m$\", is_independent=True, is_binned=False, units=\"GeV\")\n",
    "m.values = obs_qstar_f0p1[\"x\"]\n",
    "\n",
    "\n",
    "exp_qstar_f0p1_coup = Variable(\"Cross section upper limit at 95% CL\", is_independent=False, is_binned=False, units=\"pb\")\n",
    "exp_qstar_f0p1_coup.add_qualifier(\"Limit\", \"Expected\")\n",
    "exp_qstar_f0p1_coup.add_qualifier(\"SQRT(S)\", 13, \"TeV\")\n",
    "exp_qstar_f0p1_coup.add_qualifier(\"LUMINOSITY\", 138, \"fb$^{-1}$\")\n",
    "\n",
    "obs_qstar_f0p1_coup = Variable(\"Cross section upper limit at 95% CL\", is_independent=False, is_binned=False, units=\"pb\")\n",
    "obs_qstar_f0p1_coup.add_qualifier(\"Limit\", \"Expected\")\n",
    "obs_qstar_f0p1_coup.add_qualifier(\"SQRT(S)\", 13, \"TeV\")\n",
    "obs_qstar_f0p1_coup.add_qualifier(\"LUMINOSITY\", 138, \"fb$^{-1}$\")\n",
    "\n",
    "obs_qstar_f0p1_coup.values = obs_qstar_f0p1[\"y\"]\n",
    "exp_qstar_f0p1_coup.values = exp_qstar_f0p1[\"y\"]\n",
    "\n",
    "unc_1s_qstar_f0p1_coup = Uncertainty(\"1 s.d.\", is_symmetric=False)\n",
    "unc_1s_qstar_f0p1_coup.set_values_from_intervals(unc_1s_qstar_f0p1[\"dy\"],nominal=exp.values)\n",
    "exp_qstar_f0p1_coup.add_uncertainty(unc_1s_qstar_f0p1_coup)\n",
    "\n",
    "unc_2s_qstar_f0p1_coup = Uncertainty(\"2 s.d.\", is_symmetric=False)\n",
    "unc_2s_qstar_f0p1_coup.set_values_from_intervals(unc_2s_qstar_f0p1[\"dy\"],nominal=exp.values)\n",
    "exp_qstar_f0p1_coup.add_uncertainty(unc_2s_qstar_f0p1_coup)\n",
    "\n",
    "table.add_variable(m)\n",
    "table.add_variable(obs_qstar_f0p1_coup)\n",
    "table.add_variable(exp_qstar_f0p1_coup)\n",
    "submission1.add_table(table)\n",
    "\n",
    "print(unc_1s_qstar_f0p1[\"dy\"])\n",
    "\n",
    "#from __future__ import print_function\n",
    "#print(unc_1s_graph)"
   ]
  },
  {
   "cell_type": "code",
   "execution_count": 13,
   "metadata": {},
   "outputs": [],
   "source": [
    "outdir = \"output\"\n",
    "submission1.create_files(outdir,remove_old=True)"
   ]
  },
  {
   "cell_type": "code",
   "execution_count": null,
   "metadata": {},
   "outputs": [],
   "source": []
  }
 ],
 "metadata": {
  "kernelspec": {
   "display_name": "Python 3",
   "language": "python",
   "name": "python3"
  },
  "language_info": {
   "codemirror_mode": {
    "name": "ipython",
    "version": 3
   },
   "file_extension": ".py",
   "mimetype": "text/x-python",
   "name": "python",
   "nbconvert_exporter": "python",
   "pygments_lexer": "ipython3",
   "version": "3.9.0"
  }
 },
 "nbformat": 4,
 "nbformat_minor": 4
}
